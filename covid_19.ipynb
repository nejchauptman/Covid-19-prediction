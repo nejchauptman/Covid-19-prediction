{
 "metadata": {
  "language_info": {
   "codemirror_mode": {
    "name": "ipython",
    "version": 3
   },
   "file_extension": ".py",
   "mimetype": "text/x-python",
   "name": "python",
   "nbconvert_exporter": "python",
   "pygments_lexer": "ipython3",
   "version": "3.8.6-final"
  },
  "orig_nbformat": 2,
  "kernelspec": {
   "name": "python3",
   "display_name": "Python 3.8.6 64-bit",
   "metadata": {
    "interpreter": {
     "hash": "29547fee5955ce057de0c90ebc8a56d59fd012439158eb23d5b7ad28b8dec87a"
    }
   }
  }
 },
 "nbformat": 4,
 "nbformat_minor": 2,
 "cells": [
  {
   "cell_type": "code",
   "execution_count": 33,
   "metadata": {},
   "outputs": [],
   "source": [
    "import pandas as pd\n",
    "import numpy as np \n"
   ]
  },
  {
   "cell_type": "code",
   "execution_count": 35,
   "metadata": {},
   "outputs": [
    {
     "output_type": "execute_result",
     "data": {
      "text/plain": [
       "      dayFromStart  day  month  LJ regija  po regija  kr regija  ce regija  \\\n",
       "year                                                                         \n",
       "2020             1    4      3          1        NaN        NaN        NaN   \n",
       "2020             2    5      3          5        NaN        NaN        NaN   \n",
       "2020             3    6      3          7        NaN        NaN        NaN   \n",
       "2020             4    7      3          8        NaN        NaN        NaN   \n",
       "2020             5    8      3         10        NaN        NaN        NaN   \n",
       "2020             6    9      3         16        NaN        NaN        NaN   \n",
       "2020             7   10      3         27        2.0        NaN        NaN   \n",
       "2020             8   11      3         44        3.0        1.0        4.0   \n",
       "2020             9   12      3         63        3.0        2.0       13.0   \n",
       "2020            10   13      3         73        4.0        8.0       25.0   \n",
       "\n",
       "      foreign regija  nm regija  kk regija  ...  age 55-64 MEN  age 65-74  \\\n",
       "year                                        ...                             \n",
       "2020             NaN        NaN        NaN  ...              1        NaN   \n",
       "2020             NaN        NaN        NaN  ...              1        1.0   \n",
       "2020             NaN        1.0        NaN  ...              3        1.0   \n",
       "2020             NaN        3.0        NaN  ...              3        2.0   \n",
       "2020             NaN        6.0        NaN  ...              4        3.0   \n",
       "2020             NaN       11.0        NaN  ...              5        5.0   \n",
       "2020             NaN       12.0        NaN  ...              7        6.0   \n",
       "2020             NaN       18.0        NaN  ...              9        8.0   \n",
       "2020             1.0       30.0        1.0  ...             15        8.0   \n",
       "2020             1.0       40.0        1.0  ...             15       12.0   \n",
       "\n",
       "      age 65-74 FEMALE  age 65-74 MEN  age 75-84  age 75-84 FEMALE  \\\n",
       "year                                                                 \n",
       "2020               NaN            NaN        NaN               NaN   \n",
       "2020               NaN            1.0        NaN               NaN   \n",
       "2020               NaN            1.0        NaN               NaN   \n",
       "2020               1.0            1.0        NaN               NaN   \n",
       "2020               1.0            2.0        NaN               NaN   \n",
       "2020               1.0            4.0        NaN               NaN   \n",
       "2020               1.0            5.0        NaN               NaN   \n",
       "2020               2.0            6.0        1.0               1.0   \n",
       "2020               2.0            6.0        1.0               1.0   \n",
       "2020               2.0           10.0        3.0               1.0   \n",
       "\n",
       "      age 75-84 MEN  age 85+  age 85+ FEMALE  age 85+ MEN  \n",
       "year                                                       \n",
       "2020            NaN      NaN             NaN          NaN  \n",
       "2020            NaN      NaN             NaN          NaN  \n",
       "2020            NaN      NaN             NaN          NaN  \n",
       "2020            NaN      NaN             NaN          NaN  \n",
       "2020            NaN      NaN             NaN          NaN  \n",
       "2020            NaN      1.0             1.0          NaN  \n",
       "2020            NaN      2.0             1.0          1.0  \n",
       "2020            NaN      3.0             1.0          2.0  \n",
       "2020            NaN      5.0             2.0          3.0  \n",
       "2020            2.0      7.0             4.0          3.0  \n",
       "\n",
       "[10 rows x 43 columns]"
      ],
      "text/html": "<div>\n<style scoped>\n    .dataframe tbody tr th:only-of-type {\n        vertical-align: middle;\n    }\n\n    .dataframe tbody tr th {\n        vertical-align: top;\n    }\n\n    .dataframe thead th {\n        text-align: right;\n    }\n</style>\n<table border=\"1\" class=\"dataframe\">\n  <thead>\n    <tr style=\"text-align: right;\">\n      <th></th>\n      <th>dayFromStart</th>\n      <th>day</th>\n      <th>month</th>\n      <th>LJ regija</th>\n      <th>po regija</th>\n      <th>kr regija</th>\n      <th>ce regija</th>\n      <th>foreign regija</th>\n      <th>nm regija</th>\n      <th>kk regija</th>\n      <th>...</th>\n      <th>age 55-64 MEN</th>\n      <th>age 65-74</th>\n      <th>age 65-74 FEMALE</th>\n      <th>age 65-74 MEN</th>\n      <th>age 75-84</th>\n      <th>age 75-84 FEMALE</th>\n      <th>age 75-84 MEN</th>\n      <th>age 85+</th>\n      <th>age 85+ FEMALE</th>\n      <th>age 85+ MEN</th>\n    </tr>\n    <tr>\n      <th>year</th>\n      <th></th>\n      <th></th>\n      <th></th>\n      <th></th>\n      <th></th>\n      <th></th>\n      <th></th>\n      <th></th>\n      <th></th>\n      <th></th>\n      <th></th>\n      <th></th>\n      <th></th>\n      <th></th>\n      <th></th>\n      <th></th>\n      <th></th>\n      <th></th>\n      <th></th>\n      <th></th>\n      <th></th>\n    </tr>\n  </thead>\n  <tbody>\n    <tr>\n      <th>2020</th>\n      <td>1</td>\n      <td>4</td>\n      <td>3</td>\n      <td>1</td>\n      <td>NaN</td>\n      <td>NaN</td>\n      <td>NaN</td>\n      <td>NaN</td>\n      <td>NaN</td>\n      <td>NaN</td>\n      <td>...</td>\n      <td>1</td>\n      <td>NaN</td>\n      <td>NaN</td>\n      <td>NaN</td>\n      <td>NaN</td>\n      <td>NaN</td>\n      <td>NaN</td>\n      <td>NaN</td>\n      <td>NaN</td>\n      <td>NaN</td>\n    </tr>\n    <tr>\n      <th>2020</th>\n      <td>2</td>\n      <td>5</td>\n      <td>3</td>\n      <td>5</td>\n      <td>NaN</td>\n      <td>NaN</td>\n      <td>NaN</td>\n      <td>NaN</td>\n      <td>NaN</td>\n      <td>NaN</td>\n      <td>...</td>\n      <td>1</td>\n      <td>1.0</td>\n      <td>NaN</td>\n      <td>1.0</td>\n      <td>NaN</td>\n      <td>NaN</td>\n      <td>NaN</td>\n      <td>NaN</td>\n      <td>NaN</td>\n      <td>NaN</td>\n    </tr>\n    <tr>\n      <th>2020</th>\n      <td>3</td>\n      <td>6</td>\n      <td>3</td>\n      <td>7</td>\n      <td>NaN</td>\n      <td>NaN</td>\n      <td>NaN</td>\n      <td>NaN</td>\n      <td>1.0</td>\n      <td>NaN</td>\n      <td>...</td>\n      <td>3</td>\n      <td>1.0</td>\n      <td>NaN</td>\n      <td>1.0</td>\n      <td>NaN</td>\n      <td>NaN</td>\n      <td>NaN</td>\n      <td>NaN</td>\n      <td>NaN</td>\n      <td>NaN</td>\n    </tr>\n    <tr>\n      <th>2020</th>\n      <td>4</td>\n      <td>7</td>\n      <td>3</td>\n      <td>8</td>\n      <td>NaN</td>\n      <td>NaN</td>\n      <td>NaN</td>\n      <td>NaN</td>\n      <td>3.0</td>\n      <td>NaN</td>\n      <td>...</td>\n      <td>3</td>\n      <td>2.0</td>\n      <td>1.0</td>\n      <td>1.0</td>\n      <td>NaN</td>\n      <td>NaN</td>\n      <td>NaN</td>\n      <td>NaN</td>\n      <td>NaN</td>\n      <td>NaN</td>\n    </tr>\n    <tr>\n      <th>2020</th>\n      <td>5</td>\n      <td>8</td>\n      <td>3</td>\n      <td>10</td>\n      <td>NaN</td>\n      <td>NaN</td>\n      <td>NaN</td>\n      <td>NaN</td>\n      <td>6.0</td>\n      <td>NaN</td>\n      <td>...</td>\n      <td>4</td>\n      <td>3.0</td>\n      <td>1.0</td>\n      <td>2.0</td>\n      <td>NaN</td>\n      <td>NaN</td>\n      <td>NaN</td>\n      <td>NaN</td>\n      <td>NaN</td>\n      <td>NaN</td>\n    </tr>\n    <tr>\n      <th>2020</th>\n      <td>6</td>\n      <td>9</td>\n      <td>3</td>\n      <td>16</td>\n      <td>NaN</td>\n      <td>NaN</td>\n      <td>NaN</td>\n      <td>NaN</td>\n      <td>11.0</td>\n      <td>NaN</td>\n      <td>...</td>\n      <td>5</td>\n      <td>5.0</td>\n      <td>1.0</td>\n      <td>4.0</td>\n      <td>NaN</td>\n      <td>NaN</td>\n      <td>NaN</td>\n      <td>1.0</td>\n      <td>1.0</td>\n      <td>NaN</td>\n    </tr>\n    <tr>\n      <th>2020</th>\n      <td>7</td>\n      <td>10</td>\n      <td>3</td>\n      <td>27</td>\n      <td>2.0</td>\n      <td>NaN</td>\n      <td>NaN</td>\n      <td>NaN</td>\n      <td>12.0</td>\n      <td>NaN</td>\n      <td>...</td>\n      <td>7</td>\n      <td>6.0</td>\n      <td>1.0</td>\n      <td>5.0</td>\n      <td>NaN</td>\n      <td>NaN</td>\n      <td>NaN</td>\n      <td>2.0</td>\n      <td>1.0</td>\n      <td>1.0</td>\n    </tr>\n    <tr>\n      <th>2020</th>\n      <td>8</td>\n      <td>11</td>\n      <td>3</td>\n      <td>44</td>\n      <td>3.0</td>\n      <td>1.0</td>\n      <td>4.0</td>\n      <td>NaN</td>\n      <td>18.0</td>\n      <td>NaN</td>\n      <td>...</td>\n      <td>9</td>\n      <td>8.0</td>\n      <td>2.0</td>\n      <td>6.0</td>\n      <td>1.0</td>\n      <td>1.0</td>\n      <td>NaN</td>\n      <td>3.0</td>\n      <td>1.0</td>\n      <td>2.0</td>\n    </tr>\n    <tr>\n      <th>2020</th>\n      <td>9</td>\n      <td>12</td>\n      <td>3</td>\n      <td>63</td>\n      <td>3.0</td>\n      <td>2.0</td>\n      <td>13.0</td>\n      <td>1.0</td>\n      <td>30.0</td>\n      <td>1.0</td>\n      <td>...</td>\n      <td>15</td>\n      <td>8.0</td>\n      <td>2.0</td>\n      <td>6.0</td>\n      <td>1.0</td>\n      <td>1.0</td>\n      <td>NaN</td>\n      <td>5.0</td>\n      <td>2.0</td>\n      <td>3.0</td>\n    </tr>\n    <tr>\n      <th>2020</th>\n      <td>10</td>\n      <td>13</td>\n      <td>3</td>\n      <td>73</td>\n      <td>4.0</td>\n      <td>8.0</td>\n      <td>25.0</td>\n      <td>1.0</td>\n      <td>40.0</td>\n      <td>1.0</td>\n      <td>...</td>\n      <td>15</td>\n      <td>12.0</td>\n      <td>2.0</td>\n      <td>10.0</td>\n      <td>3.0</td>\n      <td>1.0</td>\n      <td>2.0</td>\n      <td>7.0</td>\n      <td>4.0</td>\n      <td>3.0</td>\n    </tr>\n  </tbody>\n</table>\n<p>10 rows × 43 columns</p>\n</div>"
     },
     "metadata": {},
     "execution_count": 35
    }
   ],
   "source": [
    "df = pd.read_csv(\"covid_19_prediction/data/covid19.csv\", index_col=0, sep=\",\")\n",
    "df.head(10)"
   ]
  },
  {
   "cell_type": "code",
   "execution_count": 46,
   "metadata": {},
   "outputs": [
    {
     "output_type": "execute_result",
     "data": {
      "text/plain": [
       "      dayFromStart  day  month  LJ regija  po regija  kr regija  ce regija  \\\n",
       "year                                                                         \n",
       "2020           294   22     12      26274     2326.0    12784.0    15208.0   \n",
       "2020           295   23     12      26673     2359.0    12932.0    15556.0   \n",
       "2020           296   24     12      27064     2383.0    13056.0    15792.0   \n",
       "2020           297   25     12      27166     2386.0    13092.0    15811.0   \n",
       "2020           298   26     12      27308     2389.0    13137.0    15893.0   \n",
       "2020           299   27     12      27453     2393.0    13164.0    15914.0   \n",
       "2020           300   28     12      27914     2470.0    13332.0    16171.0   \n",
       "2020           301   29     12      28398     2551.0    13502.0    16446.0   \n",
       "2020           302   30     12      28924     2566.0    13713.0    16854.0   \n",
       "2020           303   31     12      29271     2586.0    13818.0    17092.0   \n",
       "\n",
       "      foreign regija  nm regija  kk regija  ...  age 55-64 MEN  age 65-74  \\\n",
       "year                                        ...                             \n",
       "2020           482.0     8560.0     4011.0  ...           7518     8003.0   \n",
       "2020           487.0     8771.0     4144.0  ...           7695     8185.0   \n",
       "2020           489.0     8939.0     4324.0  ...           7836     8344.0   \n",
       "2020           489.0     8963.0     4335.0  ...           7871     8379.0   \n",
       "2020           492.0     9024.0     4390.0  ...           7912     8442.0   \n",
       "2020           493.0     9057.0     4406.0  ...           7952     8477.0   \n",
       "2020           497.0     9261.0     4569.0  ...           8105     8684.0   \n",
       "2020           501.0     9535.0     4715.0  ...           8313     8927.0   \n",
       "2020           502.0     9787.0     4835.0  ...           8516     9143.0   \n",
       "2020           505.0     9973.0     4971.0  ...           8650     9287.0   \n",
       "\n",
       "      age 65-74 FEMALE  age 65-74 MEN  age 75-84  age 75-84 FEMALE  \\\n",
       "year                                                                 \n",
       "2020            3693.0         4310.0     7368.0            4382.0   \n",
       "2020            3781.0         4404.0     7479.0            4441.0   \n",
       "2020            3855.0         4489.0     7589.0            4500.0   \n",
       "2020            3872.0         4507.0     7624.0            4516.0   \n",
       "2020            3898.0         4544.0     7663.0            4539.0   \n",
       "2020            3915.0         4562.0     7703.0            4559.0   \n",
       "2020            4022.0         4662.0     7806.0            4612.0   \n",
       "2020            4139.0         4787.0     7956.0            4703.0   \n",
       "2020            4240.0         4902.0     8099.0            4779.0   \n",
       "2020            4312.0         4974.0     8203.0            4836.0   \n",
       "\n",
       "      age 75-84 MEN  age 85+  age 85+ FEMALE  age 85+ MEN  \n",
       "year                                                       \n",
       "2020         2986.0   6581.0          5107.0       1474.0  \n",
       "2020         3038.0   6648.0          5165.0       1483.0  \n",
       "2020         3089.0   6707.0          5209.0       1498.0  \n",
       "2020         3108.0   6726.0          5224.0       1502.0  \n",
       "2020         3124.0   6754.0          5245.0       1509.0  \n",
       "2020         3144.0   6787.0          5267.0       1520.0  \n",
       "2020         3194.0   6869.0          5327.0       1542.0  \n",
       "2020         3253.0   6967.0          5401.0       1566.0  \n",
       "2020         3320.0   7022.0          5443.0       1579.0  \n",
       "2020         3367.0   7064.0          5473.0       1591.0  \n",
       "\n",
       "[10 rows x 43 columns]"
      ],
      "text/html": "<div>\n<style scoped>\n    .dataframe tbody tr th:only-of-type {\n        vertical-align: middle;\n    }\n\n    .dataframe tbody tr th {\n        vertical-align: top;\n    }\n\n    .dataframe thead th {\n        text-align: right;\n    }\n</style>\n<table border=\"1\" class=\"dataframe\">\n  <thead>\n    <tr style=\"text-align: right;\">\n      <th></th>\n      <th>dayFromStart</th>\n      <th>day</th>\n      <th>month</th>\n      <th>LJ regija</th>\n      <th>po regija</th>\n      <th>kr regija</th>\n      <th>ce regija</th>\n      <th>foreign regija</th>\n      <th>nm regija</th>\n      <th>kk regija</th>\n      <th>...</th>\n      <th>age 55-64 MEN</th>\n      <th>age 65-74</th>\n      <th>age 65-74 FEMALE</th>\n      <th>age 65-74 MEN</th>\n      <th>age 75-84</th>\n      <th>age 75-84 FEMALE</th>\n      <th>age 75-84 MEN</th>\n      <th>age 85+</th>\n      <th>age 85+ FEMALE</th>\n      <th>age 85+ MEN</th>\n    </tr>\n    <tr>\n      <th>year</th>\n      <th></th>\n      <th></th>\n      <th></th>\n      <th></th>\n      <th></th>\n      <th></th>\n      <th></th>\n      <th></th>\n      <th></th>\n      <th></th>\n      <th></th>\n      <th></th>\n      <th></th>\n      <th></th>\n      <th></th>\n      <th></th>\n      <th></th>\n      <th></th>\n      <th></th>\n      <th></th>\n      <th></th>\n    </tr>\n  </thead>\n  <tbody>\n    <tr>\n      <th>2020</th>\n      <td>294</td>\n      <td>22</td>\n      <td>12</td>\n      <td>26274</td>\n      <td>2326.0</td>\n      <td>12784.0</td>\n      <td>15208.0</td>\n      <td>482.0</td>\n      <td>8560.0</td>\n      <td>4011.0</td>\n      <td>...</td>\n      <td>7518</td>\n      <td>8003.0</td>\n      <td>3693.0</td>\n      <td>4310.0</td>\n      <td>7368.0</td>\n      <td>4382.0</td>\n      <td>2986.0</td>\n      <td>6581.0</td>\n      <td>5107.0</td>\n      <td>1474.0</td>\n    </tr>\n    <tr>\n      <th>2020</th>\n      <td>295</td>\n      <td>23</td>\n      <td>12</td>\n      <td>26673</td>\n      <td>2359.0</td>\n      <td>12932.0</td>\n      <td>15556.0</td>\n      <td>487.0</td>\n      <td>8771.0</td>\n      <td>4144.0</td>\n      <td>...</td>\n      <td>7695</td>\n      <td>8185.0</td>\n      <td>3781.0</td>\n      <td>4404.0</td>\n      <td>7479.0</td>\n      <td>4441.0</td>\n      <td>3038.0</td>\n      <td>6648.0</td>\n      <td>5165.0</td>\n      <td>1483.0</td>\n    </tr>\n    <tr>\n      <th>2020</th>\n      <td>296</td>\n      <td>24</td>\n      <td>12</td>\n      <td>27064</td>\n      <td>2383.0</td>\n      <td>13056.0</td>\n      <td>15792.0</td>\n      <td>489.0</td>\n      <td>8939.0</td>\n      <td>4324.0</td>\n      <td>...</td>\n      <td>7836</td>\n      <td>8344.0</td>\n      <td>3855.0</td>\n      <td>4489.0</td>\n      <td>7589.0</td>\n      <td>4500.0</td>\n      <td>3089.0</td>\n      <td>6707.0</td>\n      <td>5209.0</td>\n      <td>1498.0</td>\n    </tr>\n    <tr>\n      <th>2020</th>\n      <td>297</td>\n      <td>25</td>\n      <td>12</td>\n      <td>27166</td>\n      <td>2386.0</td>\n      <td>13092.0</td>\n      <td>15811.0</td>\n      <td>489.0</td>\n      <td>8963.0</td>\n      <td>4335.0</td>\n      <td>...</td>\n      <td>7871</td>\n      <td>8379.0</td>\n      <td>3872.0</td>\n      <td>4507.0</td>\n      <td>7624.0</td>\n      <td>4516.0</td>\n      <td>3108.0</td>\n      <td>6726.0</td>\n      <td>5224.0</td>\n      <td>1502.0</td>\n    </tr>\n    <tr>\n      <th>2020</th>\n      <td>298</td>\n      <td>26</td>\n      <td>12</td>\n      <td>27308</td>\n      <td>2389.0</td>\n      <td>13137.0</td>\n      <td>15893.0</td>\n      <td>492.0</td>\n      <td>9024.0</td>\n      <td>4390.0</td>\n      <td>...</td>\n      <td>7912</td>\n      <td>8442.0</td>\n      <td>3898.0</td>\n      <td>4544.0</td>\n      <td>7663.0</td>\n      <td>4539.0</td>\n      <td>3124.0</td>\n      <td>6754.0</td>\n      <td>5245.0</td>\n      <td>1509.0</td>\n    </tr>\n    <tr>\n      <th>2020</th>\n      <td>299</td>\n      <td>27</td>\n      <td>12</td>\n      <td>27453</td>\n      <td>2393.0</td>\n      <td>13164.0</td>\n      <td>15914.0</td>\n      <td>493.0</td>\n      <td>9057.0</td>\n      <td>4406.0</td>\n      <td>...</td>\n      <td>7952</td>\n      <td>8477.0</td>\n      <td>3915.0</td>\n      <td>4562.0</td>\n      <td>7703.0</td>\n      <td>4559.0</td>\n      <td>3144.0</td>\n      <td>6787.0</td>\n      <td>5267.0</td>\n      <td>1520.0</td>\n    </tr>\n    <tr>\n      <th>2020</th>\n      <td>300</td>\n      <td>28</td>\n      <td>12</td>\n      <td>27914</td>\n      <td>2470.0</td>\n      <td>13332.0</td>\n      <td>16171.0</td>\n      <td>497.0</td>\n      <td>9261.0</td>\n      <td>4569.0</td>\n      <td>...</td>\n      <td>8105</td>\n      <td>8684.0</td>\n      <td>4022.0</td>\n      <td>4662.0</td>\n      <td>7806.0</td>\n      <td>4612.0</td>\n      <td>3194.0</td>\n      <td>6869.0</td>\n      <td>5327.0</td>\n      <td>1542.0</td>\n    </tr>\n    <tr>\n      <th>2020</th>\n      <td>301</td>\n      <td>29</td>\n      <td>12</td>\n      <td>28398</td>\n      <td>2551.0</td>\n      <td>13502.0</td>\n      <td>16446.0</td>\n      <td>501.0</td>\n      <td>9535.0</td>\n      <td>4715.0</td>\n      <td>...</td>\n      <td>8313</td>\n      <td>8927.0</td>\n      <td>4139.0</td>\n      <td>4787.0</td>\n      <td>7956.0</td>\n      <td>4703.0</td>\n      <td>3253.0</td>\n      <td>6967.0</td>\n      <td>5401.0</td>\n      <td>1566.0</td>\n    </tr>\n    <tr>\n      <th>2020</th>\n      <td>302</td>\n      <td>30</td>\n      <td>12</td>\n      <td>28924</td>\n      <td>2566.0</td>\n      <td>13713.0</td>\n      <td>16854.0</td>\n      <td>502.0</td>\n      <td>9787.0</td>\n      <td>4835.0</td>\n      <td>...</td>\n      <td>8516</td>\n      <td>9143.0</td>\n      <td>4240.0</td>\n      <td>4902.0</td>\n      <td>8099.0</td>\n      <td>4779.0</td>\n      <td>3320.0</td>\n      <td>7022.0</td>\n      <td>5443.0</td>\n      <td>1579.0</td>\n    </tr>\n    <tr>\n      <th>2020</th>\n      <td>303</td>\n      <td>31</td>\n      <td>12</td>\n      <td>29271</td>\n      <td>2586.0</td>\n      <td>13818.0</td>\n      <td>17092.0</td>\n      <td>505.0</td>\n      <td>9973.0</td>\n      <td>4971.0</td>\n      <td>...</td>\n      <td>8650</td>\n      <td>9287.0</td>\n      <td>4312.0</td>\n      <td>4974.0</td>\n      <td>8203.0</td>\n      <td>4836.0</td>\n      <td>3367.0</td>\n      <td>7064.0</td>\n      <td>5473.0</td>\n      <td>1591.0</td>\n    </tr>\n  </tbody>\n</table>\n<p>10 rows × 43 columns</p>\n</div>"
     },
     "metadata": {},
     "execution_count": 46
    }
   ],
   "source": [
    "df.tail(10)"
   ]
  },
  {
   "cell_type": "code",
   "execution_count": 55,
   "metadata": {},
   "outputs": [
    {
     "output_type": "execute_result",
     "data": {
      "text/plain": [
       "(303, 43)"
      ]
     },
     "metadata": {},
     "execution_count": 55
    }
   ],
   "source": [
    "df.shape"
   ]
  },
  {
   "cell_type": "code",
   "execution_count": 47,
   "metadata": {},
   "outputs": [
    {
     "output_type": "execute_result",
     "data": {
      "text/plain": [
       "dayFromStart            int64\n",
       "day                     int64\n",
       "month                   int64\n",
       "LJ regija               int64\n",
       "po regija             float64\n",
       "kr regija             float64\n",
       "ce regija             float64\n",
       "foreign regija        float64\n",
       "nm regija             float64\n",
       "kk regija             float64\n",
       "mb regija             float64\n",
       "ms regija             float64\n",
       "za regija             float64\n",
       "ng regija             float64\n",
       "kp regija             float64\n",
       "tested_poz_today        int64\n",
       "tested_poz_to_date      int64\n",
       "tested_today            int64\n",
       "tested_to_date          int64\n",
       "age 15-24             float64\n",
       "age 15-24 FEMALE      float64\n",
       "age 15-24 MEN         float64\n",
       "age 25-34             float64\n",
       "age 25-34 FEMALE      float64\n",
       "age 25-34 MEN         float64\n",
       "age 35-44             float64\n",
       "age 35-44 FEMALE      float64\n",
       "age 35-44 MEN         float64\n",
       "age 45-54             float64\n",
       "age 45-54 FEMALE      float64\n",
       "age 45-54 MEN         float64\n",
       "age 55-64               int64\n",
       "age 55-64 FEMALE      float64\n",
       "age 55-64 MEN           int64\n",
       "age 65-74             float64\n",
       "age 65-74 FEMALE      float64\n",
       "age 65-74 MEN         float64\n",
       "age 75-84             float64\n",
       "age 75-84 FEMALE      float64\n",
       "age 75-84 MEN         float64\n",
       "age 85+               float64\n",
       "age 85+ FEMALE        float64\n",
       "age 85+ MEN           float64\n",
       "dtype: object"
      ]
     },
     "metadata": {},
     "execution_count": 47
    }
   ],
   "source": [
    "df.dtypes"
   ]
  },
  {
   "cell_type": "code",
   "execution_count": 49,
   "metadata": {},
   "outputs": [
    {
     "output_type": "execute_result",
     "data": {
      "text/plain": [
       "dayFromStart          0\n",
       "day                   0\n",
       "month                 0\n",
       "LJ regija             0\n",
       "po regija             0\n",
       "kr regija             0\n",
       "ce regija             0\n",
       "foreign regija        0\n",
       "nm regija             0\n",
       "kk regija             0\n",
       "mb regija             0\n",
       "ms regija             0\n",
       "za regija             0\n",
       "ng regija             0\n",
       "kp regija             0\n",
       "tested_poz_today      0\n",
       "tested_poz_to_date    0\n",
       "tested_today          0\n",
       "tested_to_date        0\n",
       "age 15-24             0\n",
       "age 15-24 FEMALE      0\n",
       "age 15-24 MEN         0\n",
       "age 25-34             0\n",
       "age 25-34 FEMALE      0\n",
       "age 25-34 MEN         0\n",
       "age 35-44             0\n",
       "age 35-44 FEMALE      0\n",
       "age 35-44 MEN         0\n",
       "age 45-54             0\n",
       "age 45-54 FEMALE      0\n",
       "age 45-54 MEN         0\n",
       "age 55-64             0\n",
       "age 55-64 FEMALE      0\n",
       "age 55-64 MEN         0\n",
       "age 65-74             0\n",
       "age 65-74 FEMALE      0\n",
       "age 65-74 MEN         0\n",
       "age 75-84             0\n",
       "age 75-84 FEMALE      0\n",
       "age 75-84 MEN         0\n",
       "age 85+               0\n",
       "age 85+ FEMALE        0\n",
       "age 85+ MEN           0\n",
       "dtype: int64"
      ]
     },
     "metadata": {},
     "execution_count": 49
    }
   ],
   "source": [
    "df.isnull().sum()"
   ]
  },
  {
   "cell_type": "code",
   "execution_count": 50,
   "metadata": {},
   "outputs": [],
   "source": [
    "df.fillna(0,inplace=True)\n"
   ]
  },
  {
   "cell_type": "code",
   "execution_count": 51,
   "metadata": {},
   "outputs": [
    {
     "output_type": "execute_result",
     "data": {
      "text/plain": [
       "dayFromStart          0\n",
       "day                   0\n",
       "month                 0\n",
       "LJ regija             0\n",
       "po regija             0\n",
       "kr regija             0\n",
       "ce regija             0\n",
       "foreign regija        0\n",
       "nm regija             0\n",
       "kk regija             0\n",
       "mb regija             0\n",
       "ms regija             0\n",
       "za regija             0\n",
       "ng regija             0\n",
       "kp regija             0\n",
       "tested_poz_today      0\n",
       "tested_poz_to_date    0\n",
       "tested_today          0\n",
       "tested_to_date        0\n",
       "age 15-24             0\n",
       "age 15-24 FEMALE      0\n",
       "age 15-24 MEN         0\n",
       "age 25-34             0\n",
       "age 25-34 FEMALE      0\n",
       "age 25-34 MEN         0\n",
       "age 35-44             0\n",
       "age 35-44 FEMALE      0\n",
       "age 35-44 MEN         0\n",
       "age 45-54             0\n",
       "age 45-54 FEMALE      0\n",
       "age 45-54 MEN         0\n",
       "age 55-64             0\n",
       "age 55-64 FEMALE      0\n",
       "age 55-64 MEN         0\n",
       "age 65-74             0\n",
       "age 65-74 FEMALE      0\n",
       "age 65-74 MEN         0\n",
       "age 75-84             0\n",
       "age 75-84 FEMALE      0\n",
       "age 75-84 MEN         0\n",
       "age 85+               0\n",
       "age 85+ FEMALE        0\n",
       "age 85+ MEN           0\n",
       "dtype: int64"
      ]
     },
     "metadata": {},
     "execution_count": 51
    }
   ],
   "source": [
    "df.isnull().sum()"
   ]
  },
  {
   "cell_type": "code",
   "execution_count": 52,
   "metadata": {},
   "outputs": [
    {
     "output_type": "execute_result",
     "data": {
      "text/plain": [
       "      dayFromStart  day  month  LJ regija  po regija  kr regija  ce regija  \\\n",
       "year                                                                         \n",
       "2020             1    4      3          1        0.0        0.0        0.0   \n",
       "2020             2    5      3          5        0.0        0.0        0.0   \n",
       "2020             3    6      3          7        0.0        0.0        0.0   \n",
       "2020             4    7      3          8        0.0        0.0        0.0   \n",
       "2020             5    8      3         10        0.0        0.0        0.0   \n",
       "2020             6    9      3         16        0.0        0.0        0.0   \n",
       "2020             7   10      3         27        2.0        0.0        0.0   \n",
       "2020             8   11      3         44        3.0        1.0        4.0   \n",
       "2020             9   12      3         63        3.0        2.0       13.0   \n",
       "2020            10   13      3         73        4.0        8.0       25.0   \n",
       "\n",
       "      foreign regija  nm regija  kk regija  ...  age 55-64 MEN  age 65-74  \\\n",
       "year                                        ...                             \n",
       "2020             0.0        0.0        0.0  ...              1        0.0   \n",
       "2020             0.0        0.0        0.0  ...              1        1.0   \n",
       "2020             0.0        1.0        0.0  ...              3        1.0   \n",
       "2020             0.0        3.0        0.0  ...              3        2.0   \n",
       "2020             0.0        6.0        0.0  ...              4        3.0   \n",
       "2020             0.0       11.0        0.0  ...              5        5.0   \n",
       "2020             0.0       12.0        0.0  ...              7        6.0   \n",
       "2020             0.0       18.0        0.0  ...              9        8.0   \n",
       "2020             1.0       30.0        1.0  ...             15        8.0   \n",
       "2020             1.0       40.0        1.0  ...             15       12.0   \n",
       "\n",
       "      age 65-74 FEMALE  age 65-74 MEN  age 75-84  age 75-84 FEMALE  \\\n",
       "year                                                                 \n",
       "2020               0.0            0.0        0.0               0.0   \n",
       "2020               0.0            1.0        0.0               0.0   \n",
       "2020               0.0            1.0        0.0               0.0   \n",
       "2020               1.0            1.0        0.0               0.0   \n",
       "2020               1.0            2.0        0.0               0.0   \n",
       "2020               1.0            4.0        0.0               0.0   \n",
       "2020               1.0            5.0        0.0               0.0   \n",
       "2020               2.0            6.0        1.0               1.0   \n",
       "2020               2.0            6.0        1.0               1.0   \n",
       "2020               2.0           10.0        3.0               1.0   \n",
       "\n",
       "      age 75-84 MEN  age 85+  age 85+ FEMALE  age 85+ MEN  \n",
       "year                                                       \n",
       "2020            0.0      0.0             0.0          0.0  \n",
       "2020            0.0      0.0             0.0          0.0  \n",
       "2020            0.0      0.0             0.0          0.0  \n",
       "2020            0.0      0.0             0.0          0.0  \n",
       "2020            0.0      0.0             0.0          0.0  \n",
       "2020            0.0      1.0             1.0          0.0  \n",
       "2020            0.0      2.0             1.0          1.0  \n",
       "2020            0.0      3.0             1.0          2.0  \n",
       "2020            0.0      5.0             2.0          3.0  \n",
       "2020            2.0      7.0             4.0          3.0  \n",
       "\n",
       "[10 rows x 43 columns]"
      ],
      "text/html": "<div>\n<style scoped>\n    .dataframe tbody tr th:only-of-type {\n        vertical-align: middle;\n    }\n\n    .dataframe tbody tr th {\n        vertical-align: top;\n    }\n\n    .dataframe thead th {\n        text-align: right;\n    }\n</style>\n<table border=\"1\" class=\"dataframe\">\n  <thead>\n    <tr style=\"text-align: right;\">\n      <th></th>\n      <th>dayFromStart</th>\n      <th>day</th>\n      <th>month</th>\n      <th>LJ regija</th>\n      <th>po regija</th>\n      <th>kr regija</th>\n      <th>ce regija</th>\n      <th>foreign regija</th>\n      <th>nm regija</th>\n      <th>kk regija</th>\n      <th>...</th>\n      <th>age 55-64 MEN</th>\n      <th>age 65-74</th>\n      <th>age 65-74 FEMALE</th>\n      <th>age 65-74 MEN</th>\n      <th>age 75-84</th>\n      <th>age 75-84 FEMALE</th>\n      <th>age 75-84 MEN</th>\n      <th>age 85+</th>\n      <th>age 85+ FEMALE</th>\n      <th>age 85+ MEN</th>\n    </tr>\n    <tr>\n      <th>year</th>\n      <th></th>\n      <th></th>\n      <th></th>\n      <th></th>\n      <th></th>\n      <th></th>\n      <th></th>\n      <th></th>\n      <th></th>\n      <th></th>\n      <th></th>\n      <th></th>\n      <th></th>\n      <th></th>\n      <th></th>\n      <th></th>\n      <th></th>\n      <th></th>\n      <th></th>\n      <th></th>\n      <th></th>\n    </tr>\n  </thead>\n  <tbody>\n    <tr>\n      <th>2020</th>\n      <td>1</td>\n      <td>4</td>\n      <td>3</td>\n      <td>1</td>\n      <td>0.0</td>\n      <td>0.0</td>\n      <td>0.0</td>\n      <td>0.0</td>\n      <td>0.0</td>\n      <td>0.0</td>\n      <td>...</td>\n      <td>1</td>\n      <td>0.0</td>\n      <td>0.0</td>\n      <td>0.0</td>\n      <td>0.0</td>\n      <td>0.0</td>\n      <td>0.0</td>\n      <td>0.0</td>\n      <td>0.0</td>\n      <td>0.0</td>\n    </tr>\n    <tr>\n      <th>2020</th>\n      <td>2</td>\n      <td>5</td>\n      <td>3</td>\n      <td>5</td>\n      <td>0.0</td>\n      <td>0.0</td>\n      <td>0.0</td>\n      <td>0.0</td>\n      <td>0.0</td>\n      <td>0.0</td>\n      <td>...</td>\n      <td>1</td>\n      <td>1.0</td>\n      <td>0.0</td>\n      <td>1.0</td>\n      <td>0.0</td>\n      <td>0.0</td>\n      <td>0.0</td>\n      <td>0.0</td>\n      <td>0.0</td>\n      <td>0.0</td>\n    </tr>\n    <tr>\n      <th>2020</th>\n      <td>3</td>\n      <td>6</td>\n      <td>3</td>\n      <td>7</td>\n      <td>0.0</td>\n      <td>0.0</td>\n      <td>0.0</td>\n      <td>0.0</td>\n      <td>1.0</td>\n      <td>0.0</td>\n      <td>...</td>\n      <td>3</td>\n      <td>1.0</td>\n      <td>0.0</td>\n      <td>1.0</td>\n      <td>0.0</td>\n      <td>0.0</td>\n      <td>0.0</td>\n      <td>0.0</td>\n      <td>0.0</td>\n      <td>0.0</td>\n    </tr>\n    <tr>\n      <th>2020</th>\n      <td>4</td>\n      <td>7</td>\n      <td>3</td>\n      <td>8</td>\n      <td>0.0</td>\n      <td>0.0</td>\n      <td>0.0</td>\n      <td>0.0</td>\n      <td>3.0</td>\n      <td>0.0</td>\n      <td>...</td>\n      <td>3</td>\n      <td>2.0</td>\n      <td>1.0</td>\n      <td>1.0</td>\n      <td>0.0</td>\n      <td>0.0</td>\n      <td>0.0</td>\n      <td>0.0</td>\n      <td>0.0</td>\n      <td>0.0</td>\n    </tr>\n    <tr>\n      <th>2020</th>\n      <td>5</td>\n      <td>8</td>\n      <td>3</td>\n      <td>10</td>\n      <td>0.0</td>\n      <td>0.0</td>\n      <td>0.0</td>\n      <td>0.0</td>\n      <td>6.0</td>\n      <td>0.0</td>\n      <td>...</td>\n      <td>4</td>\n      <td>3.0</td>\n      <td>1.0</td>\n      <td>2.0</td>\n      <td>0.0</td>\n      <td>0.0</td>\n      <td>0.0</td>\n      <td>0.0</td>\n      <td>0.0</td>\n      <td>0.0</td>\n    </tr>\n    <tr>\n      <th>2020</th>\n      <td>6</td>\n      <td>9</td>\n      <td>3</td>\n      <td>16</td>\n      <td>0.0</td>\n      <td>0.0</td>\n      <td>0.0</td>\n      <td>0.0</td>\n      <td>11.0</td>\n      <td>0.0</td>\n      <td>...</td>\n      <td>5</td>\n      <td>5.0</td>\n      <td>1.0</td>\n      <td>4.0</td>\n      <td>0.0</td>\n      <td>0.0</td>\n      <td>0.0</td>\n      <td>1.0</td>\n      <td>1.0</td>\n      <td>0.0</td>\n    </tr>\n    <tr>\n      <th>2020</th>\n      <td>7</td>\n      <td>10</td>\n      <td>3</td>\n      <td>27</td>\n      <td>2.0</td>\n      <td>0.0</td>\n      <td>0.0</td>\n      <td>0.0</td>\n      <td>12.0</td>\n      <td>0.0</td>\n      <td>...</td>\n      <td>7</td>\n      <td>6.0</td>\n      <td>1.0</td>\n      <td>5.0</td>\n      <td>0.0</td>\n      <td>0.0</td>\n      <td>0.0</td>\n      <td>2.0</td>\n      <td>1.0</td>\n      <td>1.0</td>\n    </tr>\n    <tr>\n      <th>2020</th>\n      <td>8</td>\n      <td>11</td>\n      <td>3</td>\n      <td>44</td>\n      <td>3.0</td>\n      <td>1.0</td>\n      <td>4.0</td>\n      <td>0.0</td>\n      <td>18.0</td>\n      <td>0.0</td>\n      <td>...</td>\n      <td>9</td>\n      <td>8.0</td>\n      <td>2.0</td>\n      <td>6.0</td>\n      <td>1.0</td>\n      <td>1.0</td>\n      <td>0.0</td>\n      <td>3.0</td>\n      <td>1.0</td>\n      <td>2.0</td>\n    </tr>\n    <tr>\n      <th>2020</th>\n      <td>9</td>\n      <td>12</td>\n      <td>3</td>\n      <td>63</td>\n      <td>3.0</td>\n      <td>2.0</td>\n      <td>13.0</td>\n      <td>1.0</td>\n      <td>30.0</td>\n      <td>1.0</td>\n      <td>...</td>\n      <td>15</td>\n      <td>8.0</td>\n      <td>2.0</td>\n      <td>6.0</td>\n      <td>1.0</td>\n      <td>1.0</td>\n      <td>0.0</td>\n      <td>5.0</td>\n      <td>2.0</td>\n      <td>3.0</td>\n    </tr>\n    <tr>\n      <th>2020</th>\n      <td>10</td>\n      <td>13</td>\n      <td>3</td>\n      <td>73</td>\n      <td>4.0</td>\n      <td>8.0</td>\n      <td>25.0</td>\n      <td>1.0</td>\n      <td>40.0</td>\n      <td>1.0</td>\n      <td>...</td>\n      <td>15</td>\n      <td>12.0</td>\n      <td>2.0</td>\n      <td>10.0</td>\n      <td>3.0</td>\n      <td>1.0</td>\n      <td>2.0</td>\n      <td>7.0</td>\n      <td>4.0</td>\n      <td>3.0</td>\n    </tr>\n  </tbody>\n</table>\n<p>10 rows × 43 columns</p>\n</div>"
     },
     "metadata": {},
     "execution_count": 52
    }
   ],
   "source": [
    "df.head(10)"
   ]
  },
  {
   "cell_type": "code",
   "execution_count": null,
   "metadata": {},
   "outputs": [],
   "source": []
  }
 ]
}